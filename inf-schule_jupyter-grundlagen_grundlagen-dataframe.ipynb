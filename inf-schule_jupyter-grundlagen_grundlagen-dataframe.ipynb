{
  "metadata": {
    "kernelspec": {
      "name": "python",
      "display_name": "Python (Pyodide)",
      "language": "python"
    },
    "language_info": {
      "codemirror_mode": {
        "name": "python",
        "version": 3
      },
      "file_extension": ".py",
      "mimetype": "text/x-python",
      "name": "python",
      "nbconvert_exporter": "python",
      "pygments_lexer": "ipython3",
      "version": "3.8"
    }
  },
  "nbformat_minor": 5,
  "nbformat": 4,
  "cells": [
    {
      "cell_type": "markdown",
      "source": "# Bibiothek Pandas\n\nDie Python-Bibliothek Pandas dient zur Auswertung von großen Datenmengen. Um die Bibliothek kennenzulernen, beschränken wir uns jedoch zunächst auf eine gut überschaubare Menge an Daten und erzeugen ein so genanntes **pandas.DataFrame**. Zur Kontrolle lassen wird dieses anschließend ausgeben:",
      "metadata": {},
      "id": "b957f4c7"
    },
    {
      "cell_type": "code",
      "source": "import pandas as pd\n# Erzeuge ein DataFrame aus einem Pyton-Dictonary und verwende die Spalte \"Name\" als Index\ngetraenke = pd.DataFrame({'Name': ['Ada', 'Grace', 'Alan',\n                                   'Dorothy', 'Grace', 'Alan',\n                                   'Alan', 'Grace', 'Ada'],\n                          'Wasser': [3, 1, 2, 4, 2, 2, 3, 1, 3],\n                          'Kaffee': [1, 4, 2, 0, 3, 0, 3, 3, 0],\n                          'Tee':    [2, 1, 1, 0, 3, 0, 1, 1, 4],\n                          'Cola':   [2, 1, 2, 1, 2, 1, 2, 2, 0],\n                          'Limo':   [0, 0, 1, 0, 1, 0, 2, 1, 2],\n                         }).set_index('Name')\ngetraenke",
      "metadata": {},
      "execution_count": null,
      "outputs": [],
      "id": "12d2a05e"
    },
    {
      "cell_type": "markdown",
      "source": "Bei einem DataFrame handelt es sich also also um Daten, die in einer Tabelle angeordnet sind. In unsrem Beispiel sollen die Zeilen einzelne Wochen repräsentieren zusammen mit der Angabe, wie viele Getraenke die einzelnen Personen im Laufe dieser Woche getrunken haben.",
      "metadata": {},
      "id": "6d1cdc73"
    },
    {
      "cell_type": "markdown",
      "source": "## Summen und Mittelwerte\nUm einen ersten Überblick über die Daten zu bekommen, bilden wir zunächst einmal Summen und Mittelwerte über alle Getränke, die konsumiert worden sind:",
      "metadata": {},
      "id": "66d9611a"
    },
    {
      "cell_type": "code",
      "source": "getraenke.sum() ",
      "metadata": {},
      "execution_count": null,
      "outputs": [],
      "id": "0e68507d"
    },
    {
      "cell_type": "code",
      "source": "getraenke.sum().sum()",
      "metadata": {},
      "execution_count": null,
      "outputs": [],
      "id": "04a59623"
    },
    {
      "cell_type": "code",
      "source": "getraenke.mean() ",
      "metadata": {},
      "execution_count": null,
      "outputs": [],
      "id": "ac5e2cfc"
    },
    {
      "cell_type": "markdown",
      "source": "## Extrahieren von Zeilen\nNun interessiert uns, wie viele Getraenke Grace und Dorothy zu sich genommen hab. Dazu können wir einzelne Zeilen des DataFrames wie folgt extrahieren und anschließend Summen über die Teiltabelle bilden:",
      "metadata": {},
      "id": "71d5e2d1"
    },
    {
      "cell_type": "code",
      "source": "getraenke.loc['Grace']",
      "metadata": {},
      "execution_count": null,
      "outputs": [],
      "id": "a010e88e"
    },
    {
      "cell_type": "code",
      "source": "getraenke.loc[['Grace','Dorothy']]",
      "metadata": {},
      "execution_count": null,
      "outputs": [],
      "id": "67a158c7"
    },
    {
      "cell_type": "code",
      "source": "getraenke.loc['Grace'].sum()",
      "metadata": {},
      "execution_count": null,
      "outputs": [],
      "id": "4d1e67b9"
    },
    {
      "cell_type": "code",
      "source": "getraenke.loc['Grace'].sum().sum()",
      "metadata": {},
      "execution_count": null,
      "outputs": [],
      "id": "34b935b8"
    },
    {
      "cell_type": "markdown",
      "source": "## Extrahieren von Spalten\nSpalten können wir wie folgt extrahieren, um zu sehen, wie viele Getränke einer Sorte insgesamt konsumiert worden sind:",
      "metadata": {},
      "id": "526d0032"
    },
    {
      "cell_type": "code",
      "source": "getraenke['Wasser']",
      "metadata": {},
      "execution_count": null,
      "outputs": [],
      "id": "a6dbe64c"
    },
    {
      "cell_type": "code",
      "source": "getraenke[['Kaffee','Tee']]",
      "metadata": {},
      "execution_count": null,
      "outputs": [],
      "id": "02c0ad64"
    },
    {
      "cell_type": "markdown",
      "source": "## Teiltabellen\nNun interessiert auch uns, wie viel Tee oder Kaffe durch die beiden Personen Ada oder Alan konsumiert wurden. Dazu können wir wie folgt eine Teiltabelle extraheiren:",
      "metadata": {},
      "id": "93dc291f"
    },
    {
      "cell_type": "code",
      "source": "getraenke.loc[['Ada','Alan']] [['Tee','Kaffee']]",
      "metadata": {},
      "execution_count": null,
      "outputs": [],
      "id": "c8b6a8da"
    },
    {
      "cell_type": "markdown",
      "source": "## Aufgabe 1\nWas ist das Lieblingsgetränk von Alan?",
      "metadata": {},
      "id": "c169d3d3"
    },
    {
      "cell_type": "code",
      "source": "# Lösung Aufgabe 1\n",
      "metadata": {},
      "execution_count": null,
      "outputs": [],
      "id": "aaa1cf04"
    },
    {
      "cell_type": "markdown",
      "source": "## Aufgabe 2\nWie viele Getraenke jeder Sorte haben Ada und Grace zusammen konsumiert? Wie viele Getraenke waren das insgesamt?",
      "metadata": {},
      "id": "f0c7e2de"
    },
    {
      "cell_type": "code",
      "source": "# Lösung Aufgabe 2\n",
      "metadata": {},
      "execution_count": null,
      "outputs": [],
      "id": "70f0a3f1"
    },
    {
      "cell_type": "markdown",
      "source": "# Groupby\nOft ist die Funktion **pandas.DataFrame.groupby** sehr nützlich. Wir schauen uns ihr Funktionsweise anhand eines Beipsiel an:",
      "metadata": {},
      "id": "721814cc"
    },
    {
      "cell_type": "code",
      "source": "getraenke.groupby('Name')",
      "metadata": {},
      "execution_count": null,
      "outputs": [],
      "id": "c2800c8f"
    },
    {
      "cell_type": "markdown",
      "source": "Groupby liefert also ein DataFrameGroupBy-Objekt zurück. Um zu verstehen, wie dieses verwendet werden kann, speichern wir es zunächst in der Variable **grouped** ab:",
      "metadata": {},
      "id": "a348b26c"
    },
    {
      "cell_type": "code",
      "source": "grouped = getraenke.groupby('Name')",
      "metadata": {},
      "execution_count": null,
      "outputs": [],
      "id": "3040e4fd"
    },
    {
      "cell_type": "markdown",
      "source": "Anschließend können wir wir folgt über das DataFrameGroupBy-Objekt iterieren:",
      "metadata": {},
      "id": "82e59af0"
    },
    {
      "cell_type": "code",
      "source": "for name, obj in grouped:\n    print(f\"===== {name} =====\")\n    print(obj)",
      "metadata": {},
      "execution_count": null,
      "outputs": [],
      "id": "496854da"
    },
    {
      "cell_type": "markdown",
      "source": "Über DataFrameGroupBy-Objekt können auch Summen und Mittelwerte gebildet werden:",
      "metadata": {},
      "id": "b55d249b"
    },
    {
      "cell_type": "code",
      "source": "getraenke.groupby('Name').sum()",
      "metadata": {},
      "execution_count": null,
      "outputs": [],
      "id": "9897431d"
    },
    {
      "cell_type": "code",
      "source": "getraenke.groupby('Name').mean()",
      "metadata": {},
      "execution_count": null,
      "outputs": [],
      "id": "87c5a204"
    },
    {
      "cell_type": "markdown",
      "source": "### Aufgabe 3\nHalte deine Beobachtungen fest, indem du knapp aber präzsise notierst, wozu die Funktion **groupby**\nverwendet wird.",
      "metadata": {},
      "id": "f37328fd"
    },
    {
      "cell_type": "markdown",
      "source": "",
      "metadata": {},
      "id": "38c2adea"
    }
  ]
}